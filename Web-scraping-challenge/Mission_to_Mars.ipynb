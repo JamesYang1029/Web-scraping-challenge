{
 "cells": [
  {
   "cell_type": "code",
   "execution_count": 2,
   "metadata": {},
   "outputs": [
    {
     "name": "stdout",
     "output_type": "stream",
     "text": [
      "Requirement already satisfied: selenium in c:\\programdata\\anaconda3\\lib\\site-packages (3.141.0)\n",
      "Requirement already satisfied: urllib3 in c:\\programdata\\anaconda3\\lib\\site-packages (from selenium) (1.24.2)\n",
      "Requirement already satisfied: splinter in c:\\programdata\\anaconda3\\lib\\site-packages (0.13.0)\n",
      "Requirement already satisfied: six in c:\\programdata\\anaconda3\\lib\\site-packages (from splinter) (1.12.0)\n",
      "Requirement already satisfied: selenium>=3.141.0 in c:\\programdata\\anaconda3\\lib\\site-packages (from splinter) (3.141.0)\n",
      "Requirement already satisfied: urllib3 in c:\\programdata\\anaconda3\\lib\\site-packages (from selenium>=3.141.0->splinter) (1.24.2)\n"
     ]
    }
   ],
   "source": [
    "#Imports & Dependencies\n",
    "!pip install selenium\n",
    "!pip install splinter\n",
    "from splinter import Browser\n",
    "from bs4 import BeautifulSoup"
   ]
  },
  {
   "cell_type": "code",
   "execution_count": null,
   "metadata": {},
   "outputs": [],
   "source": [
    "#1.Scraping NASA Mars News"
   ]
  },
  {
   "cell_type": "code",
   "execution_count": 3,
   "metadata": {},
   "outputs": [],
   "source": [
    "#Site Navigation\n",
    "executable_path = {'executable_path':'chromedriver.exe'}\n",
    "browser = Browser('chrome', **executable_path, headless=False)\n",
    "news_url = \"https://mars.nasa.gov/news/\"\n",
    "browser.visit(news_url)\n",
    "html = browser.html\n",
    "soup = BeautifulSoup(html, \"html.parser\")"
   ]
  },
  {
   "cell_type": "code",
   "execution_count": 3,
   "metadata": {},
   "outputs": [],
   "source": []
  },
  {
   "cell_type": "code",
   "execution_count": 3,
   "metadata": {},
   "outputs": [
    {
     "name": "stdout",
     "output_type": "stream",
     "text": [
      "NASA Administrator Statement on Moon to Mars Initiative, FY 2021 Budget\n",
      "Jim Bridenstine addresses NASA's ambitious plans for the coming years, including Mars Sample Return.\n"
     ]
    }
   ],
   "source": [
    "article = soup.find(\"div\", class_='list_text')\n",
    "news_title = article.find(\"div\", class_=\"content_title\").text\n",
    "news_p = article.find(\"div\", class_ =\"article_teaser_body\").text\n",
    "print(news_title)\n",
    "print(news_p)"
   ]
  },
  {
   "cell_type": "code",
   "execution_count": null,
   "metadata": {},
   "outputs": [],
   "source": [
    "#JPL Mars Space Images - Featured Image"
   ]
  },
  {
   "cell_type": "code",
   "execution_count": 4,
   "metadata": {},
   "outputs": [],
   "source": [
    "executable_path = {'executable_path':'chromedriver.exe'}\n",
    "browser = Browser('chrome', **executable_path, headless=False)\n",
    "image_url = \"https://www.jpl.nasa.gov/spaceimages/?search=&category=Mars\"\n",
    "browser.visit(image_url)\n",
    "html = browser.html\n",
    "soup = BeautifulSoup(html, \"html.parser\")"
   ]
  },
  {
   "cell_type": "code",
   "execution_count": 8,
   "metadata": {},
   "outputs": [],
   "source": []
  },
  {
   "cell_type": "code",
   "execution_count": 5,
   "metadata": {},
   "outputs": [
    {
     "name": "stdout",
     "output_type": "stream",
     "text": [
      "https://www.jpl.nasa.gov/spaceimages/images/wallpaper/PIA23664-640x350.jpg\n"
     ]
    }
   ],
   "source": [
    "image = soup.find(\"img\", class_=\"thumb\")[\"src\"]\n",
    "featured_image_url = \"https://www.jpl.nasa.gov\" + image\n",
    "print(featured_image_url)"
   ]
  },
  {
   "cell_type": "code",
   "execution_count": null,
   "metadata": {},
   "outputs": [],
   "source": [
    "#Mars Weather\n",
    "#Twitter is not scapable "
   ]
  },
  {
   "cell_type": "code",
   "execution_count": 6,
   "metadata": {},
   "outputs": [],
   "source": [
    "executable_path = {'executable_path':'chromedriver.exe'}\n",
    "browser = Browser('chrome', **executable_path, headless=False)\n",
    "url = \"https://twitter.com/marswxreport?lang=en\"\n",
    "browser.visit(url)\n",
    "html = browser.html\n",
    "weather_soup = BeautifulSoup(html, \"html.parser\")"
   ]
  },
  {
   "cell_type": "code",
   "execution_count": 9,
   "metadata": {},
   "outputs": [
    {
     "data": {
      "text/plain": [
       "<html dir=\"ltr\" lang=\"en\"><head><meta charset=\"utf-8\"/>\n",
       "<meta content=\"width=device-width,initial-scale=1,maximum-scale=1,user-scalable=0,viewport-fit=cover\" name=\"viewport\"/>\n",
       "<link href=\"//abs.twimg.com\" rel=\"preconnect\"/>\n",
       "<link href=\"//api.twitter.com\" rel=\"preconnect\"/>\n",
       "<link href=\"//pbs.twimg.com\" rel=\"preconnect\"/>\n",
       "<link href=\"//t.co\" rel=\"preconnect\"/>\n",
       "<link href=\"//video.twimg.com\" rel=\"preconnect\"/>\n",
       "<link href=\"//abs.twimg.com\" rel=\"dns-prefetch\"/>\n",
       "<link href=\"//api.twitter.com\" rel=\"dns-prefetch\"/>\n",
       "<link href=\"//pbs.twimg.com\" rel=\"dns-prefetch\"/>\n",
       "<link href=\"//t.co\" rel=\"dns-prefetch\"/>\n",
       "<link href=\"//video.twimg.com\" rel=\"dns-prefetch\"/>\n",
       "<link as=\"script\" crossorigin=\"anonymous\" href=\"https://abs.twimg.com/responsive-web/web/polyfills.3429ecd4.js\" nonce=\"\" rel=\"preload\"/>\n",
       "<link as=\"script\" crossorigin=\"anonymous\" href=\"https://abs.twimg.com/responsive-web/web/vendors~main.e322e594.js\" nonce=\"\" rel=\"preload\"/>\n",
       "<link as=\"script\" crossorigin=\"anonymous\" href=\"https://abs.twimg.com/responsive-web/web/i18n-rweb/en.3ea5fb34.js\" nonce=\"\" rel=\"preload\"/>\n",
       "<link as=\"script\" crossorigin=\"anonymous\" href=\"https://abs.twimg.com/responsive-web/web/i18n-horizon/en.309bac84.js\" nonce=\"\" rel=\"preload\"/>\n",
       "<link as=\"script\" crossorigin=\"anonymous\" href=\"https://abs.twimg.com/responsive-web/web/main.78613ad4.js\" nonce=\"\" rel=\"preload\"/>\n",
       "<meta content=\"2231777543\" property=\"fb:app_id\"/>\n",
       "<meta content=\"Twitter\" property=\"og:site_name\"/>\n",
       "<meta content=\"V0yIS0Ec_o3Ii9KThrCoMCkwTYMMJ_JYx_RSaGhFYvw\" name=\"google-site-verification\"/>\n",
       "<link crossorigin=\"use-credentials\" href=\"/manifest.json\" rel=\"manifest\"/>\n",
       "<link href=\"https://twitter.com/marswxreport?lang=en\" hreflang=\"x-default\" rel=\"alternate\"/>\n",
       "<link href=\"https://twitter.com/marswxreport?lang=ar\" hreflang=\"ar\" rel=\"alternate\"/>\n",
       "<link href=\"https://twitter.com/marswxreport?lang=bg\" hreflang=\"bg\" rel=\"alternate\"/>\n",
       "<link href=\"https://twitter.com/marswxreport?lang=bn\" hreflang=\"bn\" rel=\"alternate\"/>\n",
       "<link href=\"https://twitter.com/marswxreport?lang=ca\" hreflang=\"ca\" rel=\"alternate\"/>\n",
       "<link href=\"https://twitter.com/marswxreport?lang=cs\" hreflang=\"cs\" rel=\"alternate\"/>\n",
       "<link href=\"https://twitter.com/marswxreport?lang=da\" hreflang=\"da\" rel=\"alternate\"/>\n",
       "<link href=\"https://twitter.com/marswxreport?lang=de\" hreflang=\"de\" rel=\"alternate\"/>\n",
       "<link href=\"https://twitter.com/marswxreport?lang=el\" hreflang=\"el\" rel=\"alternate\"/>\n",
       "<link href=\"https://twitter.com/marswxreport?lang=en\" hreflang=\"en\" rel=\"alternate\"/>\n",
       "<link href=\"https://twitter.com/marswxreport?lang=en-GB\" hreflang=\"en-GB\" rel=\"alternate\"/>\n",
       "<link href=\"https://twitter.com/marswxreport?lang=es\" hreflang=\"es\" rel=\"alternate\"/>\n",
       "<link href=\"https://twitter.com/marswxreport?lang=eu\" hreflang=\"eu\" rel=\"alternate\"/>\n",
       "<link href=\"https://twitter.com/marswxreport?lang=fa\" hreflang=\"fa\" rel=\"alternate\"/>\n",
       "<link href=\"https://twitter.com/marswxreport?lang=fi\" hreflang=\"fi\" rel=\"alternate\"/>\n",
       "<link href=\"https://twitter.com/marswxreport?lang=tl\" hreflang=\"tl\" rel=\"alternate\"/>\n",
       "<link href=\"https://twitter.com/marswxreport?lang=fr\" hreflang=\"fr\" rel=\"alternate\"/>\n",
       "<link href=\"https://twitter.com/marswxreport?lang=ga\" hreflang=\"ga\" rel=\"alternate\"/>\n",
       "<link href=\"https://twitter.com/marswxreport?lang=gl\" hreflang=\"gl\" rel=\"alternate\"/>\n",
       "<link href=\"https://twitter.com/marswxreport?lang=gu\" hreflang=\"gu\" rel=\"alternate\"/>\n",
       "<link href=\"https://twitter.com/marswxreport?lang=he\" hreflang=\"he\" rel=\"alternate\"/>\n",
       "<link href=\"https://twitter.com/marswxreport?lang=hi\" hreflang=\"hi\" rel=\"alternate\"/>\n",
       "<link href=\"https://twitter.com/marswxreport?lang=hr\" hreflang=\"hr\" rel=\"alternate\"/>\n",
       "<link href=\"https://twitter.com/marswxreport?lang=hu\" hreflang=\"hu\" rel=\"alternate\"/>\n",
       "<link href=\"https://twitter.com/marswxreport?lang=id\" hreflang=\"id\" rel=\"alternate\"/>\n",
       "<link href=\"https://twitter.com/marswxreport?lang=it\" hreflang=\"it\" rel=\"alternate\"/>\n",
       "<link href=\"https://twitter.com/marswxreport?lang=ja\" hreflang=\"ja\" rel=\"alternate\"/>\n",
       "<link href=\"https://twitter.com/marswxreport?lang=kn\" hreflang=\"kn\" rel=\"alternate\"/>\n",
       "<link href=\"https://twitter.com/marswxreport?lang=ko\" hreflang=\"ko\" rel=\"alternate\"/>\n",
       "<link href=\"https://twitter.com/marswxreport?lang=mr\" hreflang=\"mr\" rel=\"alternate\"/>\n",
       "<link href=\"https://twitter.com/marswxreport?lang=ms\" hreflang=\"ms\" rel=\"alternate\"/>\n",
       "<link href=\"https://twitter.com/marswxreport?lang=nb\" hreflang=\"nb\" rel=\"alternate\"/>\n",
       "<link href=\"https://twitter.com/marswxreport?lang=nl\" hreflang=\"nl\" rel=\"alternate\"/>\n",
       "<link href=\"https://twitter.com/marswxreport?lang=pl\" hreflang=\"pl\" rel=\"alternate\"/>\n",
       "<link href=\"https://twitter.com/marswxreport?lang=pt\" hreflang=\"pt\" rel=\"alternate\"/>\n",
       "<link href=\"https://twitter.com/marswxreport?lang=ro\" hreflang=\"ro\" rel=\"alternate\"/>\n",
       "<link href=\"https://twitter.com/marswxreport?lang=ru\" hreflang=\"ru\" rel=\"alternate\"/>\n",
       "<link href=\"https://twitter.com/marswxreport?lang=sk\" hreflang=\"sk\" rel=\"alternate\"/>\n",
       "<link href=\"https://twitter.com/marswxreport?lang=sr\" hreflang=\"sr\" rel=\"alternate\"/>\n",
       "<link href=\"https://twitter.com/marswxreport?lang=sv\" hreflang=\"sv\" rel=\"alternate\"/>\n",
       "<link href=\"https://twitter.com/marswxreport?lang=ta\" hreflang=\"ta\" rel=\"alternate\"/>\n",
       "<link href=\"https://twitter.com/marswxreport?lang=th\" hreflang=\"th\" rel=\"alternate\"/>\n",
       "<link href=\"https://twitter.com/marswxreport?lang=tr\" hreflang=\"tr\" rel=\"alternate\"/>\n",
       "<link href=\"https://twitter.com/marswxreport?lang=uk\" hreflang=\"uk\" rel=\"alternate\"/>\n",
       "<link href=\"https://twitter.com/marswxreport?lang=ur\" hreflang=\"ur\" rel=\"alternate\"/>\n",
       "<link href=\"https://twitter.com/marswxreport?lang=vi\" hreflang=\"vi\" rel=\"alternate\"/>\n",
       "<link href=\"https://twitter.com/marswxreport?lang=zh\" hreflang=\"zh\" rel=\"alternate\"/>\n",
       "<link href=\"https://twitter.com/marswxreport?lang=zh-Hant\" hreflang=\"zh-Hant\" rel=\"alternate\"/>\n",
       "<link data-rdm=\"\" href=\"https://twitter.com/marswxreport\" rel=\"canonical\"/>\n",
       "<link color=\"#1da1f2\" href=\"https://abs.twimg.com/responsive-web/web/icon-svg.9e211f64.svg\" rel=\"mask-icon\" sizes=\"any\"/>\n",
       "<link href=\"//abs.twimg.com/favicons/twitter.ico\" rel=\"shortcut icon\" type=\"image/x-icon\"/>\n",
       "<link href=\"https://abs.twimg.com/responsive-web/web/icon-ios.8ea219d4.png\" rel=\"apple-touch-icon\" sizes=\"192x192\"/>\n",
       "<meta content=\"yes\" name=\"mobile-web-app-capable\"/>\n",
       "<meta content=\"Twitter\" name=\"apple-mobile-web-app-title\"/>\n",
       "<meta content=\"white\" name=\"apple-mobile-web-app-status-bar-style\"/>\n",
       "<meta content=\"#ffffff\" name=\"theme-color\"/>\n",
       "<meta content=\"Ap6SMBNB0lQoXpXl4I9vyTJqJ7Y0X9tPd6Q6rN697iHdubQQxBcWHy21N3N7uEz7Ba5UKMbN+eLvDczBSbi27AsAAABfeyJvcmlnaW4iOiJodHRwczovL3R3aXR0ZXIuY29tOjQ0MyIsImZlYXR1cmUiOiJCYWRnaW5nIiwiZXhwaXJ5IjoxNTY0NTgyNzY2LCJpc1N1YmRvbWFpbiI6dHJ1ZX0=\" http-equiv=\"origin-trial\"/>\n",
       "<meta content=\"Apir4chqTX+4eFxKD+ErQlKRB/VtZ/dvnLfd9Y9Nenl5r1xJcf81alryTHYQiuUlz9Q49MqGXqyaiSmqWzHUqQwAAABneyJvcmlnaW4iOiJodHRwczovL3R3aXR0ZXIuY29tOjQ0MyIsImZlYXR1cmUiOiJDb250YWN0c01hbmFnZXIiLCJleHBpcnkiOjE1NzUwMzUyODMsImlzU3ViZG9tYWluIjp0cnVlfQ==\" http-equiv=\"origin-trial\"/>\n",
       "<meta content=\"AleGS26SZL7UA8Fe1DbvXzoay74bPTvrfKKGimIu1RI8vA+RtXOSVlizUkz2zU/fQoFoOTgCiCciP6pM5teaeQgAAABjeyJvcmlnaW4iOiJodHRwczovL3R3aXR0ZXIuY29tOjQ0MyIsImZlYXR1cmUiOiJTbXNSZWNlaXZlciIsImV4cGlyeSI6MTU3OTAyMDkyMSwiaXNTdWJkb21haW4iOnRydWV9\" http-equiv=\"origin-trial\"/>\n",
       "<style>html,body{height: 100%;}body{-ms-overflow-style:scrollbar;overflow-y:scroll;overscroll-behavior-y:none;}</style>\n",
       "<style id=\"react-native-stylesheet\">[stylesheet-group=\"0\"]{}\n",
       "html{-ms-text-size-adjust:100%;-webkit-text-size-adjust:100%;-webkit-tap-highlight-color:rgba(0,0,0,0);}\n",
       "body{margin:0;}\n",
       "button::-moz-focus-inner,input::-moz-focus-inner{border:0;padding:0;}\n",
       "input::-webkit-inner-spin-button,input::-webkit-outer-spin-button,input::-webkit-search-cancel-button,input::-webkit-search-decoration,input::-webkit-search-results-button,input::-webkit-search-results-decoration{display:none;}\n",
       "[stylesheet-group=\"0.1\"]{}\n",
       ":focus:not([data-focusvisible-polyfill]){outline: none;}\n",
       "[stylesheet-group=\"1\"]{}\n",
       ".css-1dbjc4n{-ms-flex-align:stretch;-ms-flex-direction:column;-ms-flex-negative:0;-ms-flex-preferred-size:auto;-webkit-align-items:stretch;-webkit-box-align:stretch;-webkit-box-direction:normal;-webkit-box-orient:vertical;-webkit-flex-basis:auto;-webkit-flex-direction:column;-webkit-flex-shrink:0;align-items:stretch;border:0 solid black;box-sizing:border-box;display:-webkit-box;display:-moz-box;display:-ms-flexbox;display:-webkit-flex;display:flex;flex-basis:auto;flex-direction:column;flex-shrink:0;margin-bottom:0px;margin-left:0px;margin-right:0px;margin-top:0px;min-height:0px;min-width:0px;padding-bottom:0px;padding-left:0px;padding-right:0px;padding-top:0px;position:relative;z-index:0;}\n",
       ".css-901oao{border:0 solid black;box-sizing:border-box;color:rgba(0,0,0,1.00);display:inline;font:14px system-ui,-apple-system,BlinkMacSystemFont,\"Segoe UI\",Roboto,Ubuntu,\"Helvetica Neue\",sans-serif;margin-bottom:0px;margin-left:0px;margin-right:0px;margin-top:0px;padding-bottom:0px;padding-left:0px;padding-right:0px;padding-top:0px;white-space:pre-wrap;word-wrap:break-word;}\n",
       ".css-16my406{color:inherit;font:inherit;white-space:inherit;}\n",
       "[stylesheet-group=\"2\"]{}\n",
       ".r-13awgt0{-ms-flex-negative:1;-ms-flex-positive:1;-ms-flex-preferred-size:0%;-webkit-box-flex:1;-webkit-flex-basis:0%;-webkit-flex-grow:1;-webkit-flex-shrink:1;flex-basis:0%;flex-grow:1;flex-shrink:1;}\n",
       ".r-4qtqp9{display:inline-block;}\n",
       ".r-ywje51{margin-bottom:auto;margin-left:auto;margin-right:auto;margin-top:auto;}\n",
       ".r-hvic4v{display:none;}\n",
       ".r-1adg3ll{display:block;}\n",
       "[stylesheet-group=\"2.2\"]{}\n",
       ".r-12vffkv>*{pointer-events:auto;}\n",
       ".r-12vffkv{pointer-events:none!important;}\n",
       ".r-14lw9ot{background-color:rgba(255,255,255,1.00);}\n",
       ".r-1p0dtai{bottom:0px;}\n",
       ".r-1d2f490{left:0px;}\n",
       ".r-1xcajam{position:fixed;}\n",
       ".r-zchlnj{right:0px;}\n",
       ".r-ipm5af{top:0px;}\n",
       ".r-yyyyoo{fill:currentcolor;}\n",
       ".r-1xvli5t{height:1.25em;}\n",
       ".r-dnmrzs{max-width:100%;}\n",
       ".r-bnwqim{position:relative;}\n",
       ".r-1plcrui{vertical-align:text-bottom;}\n",
       ".r-lrvibr{-moz-user-select:none;-ms-user-select:none;-webkit-user-select:none;user-select:none;}\n",
       ".r-13gxpu9{color:rgba(29,161,242,1.00);}\n",
       ".r-wy61xf{height:72px;}\n",
       ".r-u8s1d{position:absolute;}\n",
       ".r-1blnp2b{width:72px;}\n",
       ".r-1ykxob0{top:60%;}\n",
       ".r-1b2b6em{line-height:2em;}\n",
       ".r-q4m81j{text-align:center;}</style>\n",
       "</head><body>\n",
       "<noscript>\n",
       "<form action=\"https://mobile.twitter.com/i/nojs_router?path=%2Fmarswxreport%3Flang%3Den\" method=\"POST\" style=\"background-color: #fff; position: fixed; top: 0; left: 0; right: 0; bottom: 0; z-index: 9999;\">\n",
       "<div style=\"font-size: 18px; font-family: Helvetica,sans-serif; line-height: 24px; margin: 10%; width: 80%;\">\n",
       "<p>We've detected that JavaScript is disabled in your browser. Would you like to proceed to legacy Twitter?</p>\n",
       "<p style=\"margin: 20px 0;\">\n",
       "<button style=\"background-color: #1da1f2; border-radius: 100px; border: none; box-shadow: none; color: #fff; cursor: pointer; font-size: 14px; font-weight: bold; line-height: 20px; padding: 6px 16px;\" type=\"submit\">Yes</button>\n",
       "</p>\n",
       "</div>\n",
       "</form>\n",
       "</noscript>\n",
       "<div id=\"react-root\" style=\"height:100%;display:flex;\"><div class=\"css-1dbjc4n r-13awgt0 r-12vffkv\" data-reactroot=\"\"><div class=\"css-1dbjc4n r-13awgt0 r-12vffkv\"><div aria-label=\"Loading…\" class=\"css-1dbjc4n r-14lw9ot r-1p0dtai r-1d2f490 r-1xcajam r-zchlnj r-ipm5af\"><svg class=\"r-1p0dtai r-13gxpu9 r-4qtqp9 r-yyyyoo r-wy61xf r-1d2f490 r-ywje51 r-dnmrzs r-u8s1d r-zchlnj r-1plcrui r-ipm5af r-lrvibr r-1blnp2b\" viewbox=\"0 0 24 24\"><g><path d=\"M23.643 4.937c-.835.37-1.732.62-2.675.733.962-.576 1.7-1.49 2.048-2.578-.9.534-1.897.922-2.958 1.13-.85-.904-2.06-1.47-3.4-1.47-2.572 0-4.658 2.086-4.658 4.66 0 .364.042.718.12 1.06-3.873-.195-7.304-2.05-9.602-4.868-.4.69-.63 1.49-.63 2.342 0 1.616.823 3.043 2.072 3.878-.764-.025-1.482-.234-2.11-.583v.06c0 2.257 1.605 4.14 3.737 4.568-.392.106-.803.162-1.227.162-.3 0-.593-.028-.877-.082.593 1.85 2.313 3.198 4.352 3.234-1.595 1.25-3.604 1.995-5.786 1.995-.376 0-.747-.022-1.112-.065 2.062 1.323 4.51 2.093 7.14 2.093 8.57 0 13.255-7.098 13.255-13.254 0-.2-.005-.402-.014-.602.91-.658 1.7-1.477 2.323-2.41z\"></path></g></svg></div><div class=\"css-1dbjc4n r-hvic4v r-1d2f490 r-1xcajam r-zchlnj r-1ykxob0\" id=\"ScriptLoadFailure\"><form action=\"\" method=\"GET\"><div class=\"css-901oao r-1adg3ll r-1b2b6em r-q4m81j\" dir=\"auto\"><span class=\"css-901oao css-16my406\" dir=\"auto\">Something went wrong, but don’t fret — let’s give it another shot.</span><br/><input type=\"submit\" value=\"Try again\"/></div></form></div></div></div></div>\n",
       "<script nonce=\"\">\n",
       "window.__INITIAL_STATE__ = {\"optimist\":[],\"featureSwitch\":{\"config\":{\"account_country_setting_countries_whitelist\":{\"value\":[\"ad\",\"ae\",\"af\",\"ag\",\"ai\",\"al\",\"am\",\"ao\",\"ar\",\"as\",\"at\",\"au\",\"aw\",\"ax\",\"az\",\"ba\",\"bb\",\"bd\",\"be\",\"bf\",\"bg\",\"bh\",\"bi\",\"bj\",\"bl\",\"bm\",\"bn\",\"bo\",\"bq\",\"br\",\"bs\",\"bt\",\"bv\",\"bw\",\"by\",\"bz\",\"ca\",\"cc\",\"cd\",\"cf\",\"cg\",\"ch\",\"ci\",\"ck\",\"cl\",\"cm\",\"co\",\"cr\",\"cu\",\"cv\",\"cw\",\"cx\",\"cy\",\"cz\",\"de\",\"dj\",\"dk\",\"dm\",\"do\",\"dz\",\"ec\",\"ee\",\"eg\",\"er\",\"es\",\"et\",\"fi\",\"fj\",\"fk\",\"fm\",\"fo\",\"fr\",\"ga\",\"gb\",\"gd\",\"ge\",\"gf\",\"gg\",\"gh\",\"gi\",\"gl\",\"gm\",\"gn\",\"gp\",\"gq\",\"gr\",\"gs\",\"gt\",\"gu\",\"gw\",\"gy\",\"hk\",\"hn\",\"hr\",\"ht\",\"hu\",\"id\",\"ie\",\"il\",\"im\",\"in\",\"io\",\"iq\",\"ir\",\"is\",\"it\",\"je\",\"jm\",\"jo\",\"jp\",\"ke\",\"kg\",\"kh\",\"ki\",\"km\",\"kn\",\"kr\",\"kw\",\"ky\",\"kz\",\"la\",\"lb\",\"lc\",\"li\",\"lk\",\"lr\",\"ls\",\"lt\",\"lu\",\"lv\",\"ly\",\"ma\",\"mc\",\"md\",\"me\",\"mf\",\"mg\",\"mh\",\"mk\",\"ml\",\"mn\",\"mo\",\"mp\",\"mq\",\"mr\",\"ms\",\"mt\",\"mu\",\"mv\",\"mw\",\"mx\",\"my\",\"mz\",\"na\",\"nc\",\"ne\",\"nf\",\"ng\",\"ni\",\"nl\",\"no\",\"np\",\"nr\",\"nu\",\"nz\",\"om\",\"pa\",\"pe\",\"pf\",\"pg\",\"ph\",\"pk\",\"pl\",\"pm\",\"pn\",\"pr\",\"ps\",\"pt\",\"pw\",\"py\",\"qa\",\"re\",\"ro\",\"rs\",\"ru\",\"rw\",\"sa\",\"sb\",\"sc\",\"se\",\"sg\",\"sh\",\"si\",\"sk\",\"sl\",\"sm\",\"sn\",\"so\",\"sr\",\"st\",\"sv\",\"sx\",\"sz\",\"tc\",\"td\",\"tf\",\"tg\",\"th\",\"tj\",\"tk\",\"tl\",\"tm\",\"tn\",\"to\",\"tr\",\"tt\",\"tv\",\"tw\",\"tz\",\"ua\",\"ug\",\"us\",\"uy\",\"uz\",\"va\",\"vc\",\"ve\",\"vi\",\"vn\",\"vu\",\"wf\",\"ws\",\"xk\",\"ye\",\"yt\",\"za\",\"zm\",\"zw\"]},\"author_moderated_replies_urt_container_enabled\":{\"value\":false},\"content_language_setting_enabled\":{\"value\":true},\"dm_reactions_config_active_reactions\":{\"value\":[\"😂:funny\",\"😲:surprised\",\"😢:sad\",\"❤:like\",\"🔥:excited\",\"👍:agree\",\"👎:disagree\"]},\"dm_reactions_config_inactive_reactions\":{\"value\":[\"😠:angry\"]},\"guest_broadcasting_timeline_decorations_enabled\":{\"value\":true},\"home_timeline_latest_timeline_autoswitch_half_life_minutes\":{\"value\":43200},\"home_timeline_latest_timeline_autoswitch_threshold_multiplier\":{\"value\":2},\"home_timeline_latest_timeline_max_time_to_autoswitch_minutes\":{\"value\":5256000},\"home_timeline_latest_timeline_min_time_to_autoswitch_minutes\":{\"value\":5256000},\"home_timeline_latest_timeline_switch_enabled\":{\"value\":true},\"home_timeline_latest_timeline_threshold_to_increase_autoswitch_seconds\":{\"value\":60},\"home_timeline_spheres_detail_page_enabled\":{\"value\":true},\"home_timeline_spheres_detail_page_report_list_enabled\":{\"value\":true},\"home_timeline_spheres_detail_page_sharing_enabled\":{\"value\":true},\"home_timeline_spheres_max_user_owned_or_subscribed_lists_count\":{\"value\":0},\"home_timeline_spheres_management_page_enabled\":{\"value\":false},\"live_event_modern_segmented_controller_enabled\":{\"value\":false},\"live_event_multi_video_auto_advance_dock_enabled\":{\"value\":true},\"live_event_multi_video_auto_advance_enabled\":{\"value\":true},\"live_event_multi_video_auto_advance_fullscreen_enabled\":{\"value\":false},\"live_event_multi_video_auto_advance_transition_duration_seconds\":{\"value\":5},\"live_event_multi_video_enabled\":{\"value\":true},\"live_event_timeline_default_refresh_rate_interval_seconds\":{\"value\":30},\"live_event_timeline_minimum_refresh_rate_interval_seconds\":{\"value\":10},\"live_event_timeline_server_controlled_refresh_rate_enabled\":{\"value\":true},\"live_event_vod_promoted_content_enabled\":{\"value\":false},\"moment_annotations_enabled\":{\"value\":true},\"navigation_stack_referrer_param_enabled\":{\"value\":false},\"responsive_web_2fa_settings_change_copy_enabled\":{\"value\":true},\"responsive_web_allow_switch_to_ms\":{\"value\":false},\"responsive_web_alt_text_badge_enabled\":{\"value\":false},\"responsive_web_alt_text_by_default_enabled\":{\"value\":false},\"responsive_web_alt_text_gifs_enabled\":{\"value\":true},\"responsive_web_alt_text_gif_default_text_enabled\":{\"value\":false},\"responsive_web_auto_logout_multiaccount_enabled\":{\"value\":true},\"responsive_web_auto_logout_restrictedauthtoken_enabled\":{\"value\":true},\"responsive_web_auto_logout_twid_enabled\":{\"value\":false},\"responsive_web_branch_download_links_enabled\":{\"value\":false},\"responsive_web_branch_sdk_enabled\":{\"value\":false},\"responsive_web_broadcast_page_card_enabled\":{\"value\":true},\"responsive_web_composer_text_in_local_state_enabled\":{\"value\":true},\"responsive_web_continue_as_param_enabled\":{\"value\":true},\"responsive_web_continue_as_always_enabled\":{\"value\":false},\"responsive_web_conversation_tree_enabled\":{\"value\":false},\"responsive_web_conversation_tree_deep_threads_enabled\":{\"value\":false},\"responsive_web_conversation_tree_selected_state_enabled\":{\"value\":false},\"responsive_web_desktop_app_reload_hard_ttl\":{\"value\":86400000},\"responsive_web_desktop_app_reload_nightly_reset_enabled\":{\"value\":false},\"responsive_web_desktop_app_reload_soft_ttl\":{\"value\":86400000},\"responsive_web_disable_access\":{\"value\":true},\"responsive_web_dm_quick_access_enabled\":{\"value\":false},\"responsive_web_eu_countries\":{\"value\":[\"at\",\"be\",\"bg\",\"ch\",\"cy\",\"cz\",\"de\",\"dk\",\"ee\",\"es\",\"fi\",\"fr\",\"gb\",\"gr\",\"hr\",\"hu\",\"ie\",\"is\",\"it\",\"li\",\"lt\",\"lu\",\"lv\",\"mt\",\"nl\",\"no\",\"pl\",\"pt\",\"ro\",\"se\",\"si\",\"sk\"]},\"responsive_web_extension_compatibility_hide\":{\"value\":false},\"responsive_web_extension_compatibility_impression_guard\":{\"value\":true},\"responsive_web_extension_compatibility_override_param\":{\"value\":false},\"responsive_web_extension_compatibility_scribe\":{\"value\":true},\"responsive_web_extension_compatibility_size_threshold\":{\"value\":50},\"responsive_web_fake_root_twitter_domain_for_testing\":{\"value\":false},\"responsive_web_feature_switch_dash_enabled\":{\"value\":false},\"responsive_web_fetch_hashflags_on_boot\":{\"value\":true},\"responsive_web_framerate_tracking_home_enabled\":{\"value\":false},\"responsive_web_graphql_amr_moderate\":{\"value\":false},\"responsive_web_graphql_amr_unmoderate\":{\"value\":false},\"responsive_web_graphql_dark_reads_probability\":{\"value\":0},\"responsive_web_graphql_following\":{\"value\":false},\"responsive_web_graphql_user_lists_blocked\":{\"value\":false},\"responsive_web_graphql_user_lists_followers_you_follow\":{\"value\":false},\"responsive_web_graphql_user_lists_muted\":{\"value\":false},\"responsive_web_graphql_verify_credentials_enabled\":{\"value\":true},\"responsive_web_guest_token_reporting\":{\"value\":true},\"responsive_web_horizon_video_player_enabled\":{\"value\":false},\"responsive_web_hw_cards_in_dms_enabled\":{\"value\":false},\"responsive_web_inline_login_field_prompts_enabled\":{\"value\":false},\"responsive_web_instream_video_enabled\":{\"value\":false},\"responsive_web_live_video_parity_periscope_auth_enabled\":{\"value\":false},\"responsive_web_login_input_type_email_enabled\":{\"value\":false},\"responsive_web_media_avatar_crop_enabled\":{\"value\":false},\"responsive_web_media_upload_eager_enabled\":{\"value\":false},\"responsive_web_media_upload_parallel_requests\":{\"value\":1},\"responsive_web_media_upload_limit_2g\":{\"value\":250},\"responsive_web_media_upload_limit_3g\":{\"value\":1500},\"responsive_web_media_upload_limit_slow_2g\":{\"value\":150},\"responsive_web_media_upload_target_jpg_pixels_per_byte\":{\"value\":1},\"responsive_web_media_viewer_m2_sidebar_enabled\":{\"value\":false},\"responsive_web_multiple_account_limit\":{\"value\":5},\"responsive_web_new_tweet_translations_enabled\":{\"value\":false},\"responsive_web_new_multi_account_ux_enabled\":{\"value\":false},\"responsive_web_ntab_verified_mentions_vit_internal_dogfood\":{\"value\":false},\"responsive_web_ocf_sms_autoverify_enabled\":{\"value\":false},\"responsive_web_report_page_not_found\":{\"value\":false},\"responsive_web_rich_tweet_landing_enabled\":{\"value\":false},\"responsive_web_scheduling_edit_enabled\":{\"value\":false},\"responsive_web_scheduling_enabled\":{\"value\":false},\"responsive_web_scheduling_entry_point\":{\"value\":\"overflow\"},\"responsive_web_scroller_autopoll_enabled\":{\"value\":false},\"responsive_web_scroller_pin_to_top_enabled\":{\"value\":false},\"responsive_web_scroller_v3_enabled\":{\"value\":false},\"responsive_web_search_dms_enabled\":{\"value\":true},\"responsive_web_show_urt_connect_tab\":{\"value\":true},\"responsive_web_side_nav_enabled\":{\"value\":false},\"responsive_web_sports_carousel\":{\"value\":false},\"responsive_web_trends_setting_new_endpoints\":{\"value\":false},\"responsive_web_tweetdeck_composer_route_enabled\":{\"value\":false},\"responsive_web_tweetdeck_composer_team_picker_enabled\":{\"value\":false},\"responsive_web_tweets_pill_local_enabled\":{\"value\":false},\"responsive_web_unified_cards_all_cards_enabled\":{\"value\":false},\"responsive_web_unified_cards_amplify_enabled\":{\"value\":true},\"responsive_web_unified_cards_app_enabled\":{\"value\":true},\"responsive_web_unified_cards_appplayer_enabled\":{\"value\":true},\"responsive_web_unified_cards_audio_enabled\":{\"value\":true},\"responsive_web_unified_cards_broadcast_enabled\":{\"value\":true},\"responsive_web_unified_cards_direct_store_link_app_enabled\":{\"value\":true},\"responsive_web_unified_cards_image_direct_message_enabled\":{\"value\":true},\"responsive_web_unified_cards_live_event_enabled\":{\"value\":false},\"responsive_web_unified_cards_message_me_enabled\":{\"value\":true},\"responsive_web_unified_cards_moment_enabled\":{\"value\":true},\"responsive_web_unified_cards_periscope_broadcast_enabled\":{\"value\":true},\"responsive_web_unified_cards_player_enabled\":{\"value\":true},\"responsive_web_unified_cards_poll2choice_image_enabled\":{\"value\":false},\"responsive_web_unified_cards_poll2choice_text_only_enabled\":{\"value\":true},\"responsive_web_unified_cards_poll2choice_video_enabled\":{\"value\":false},\"responsive_web_unified_cards_poll3choice_image_enabled\":{\"value\":false},\"responsive_web_unified_cards_poll3choice_text_only_enabled\":{\"value\":true},\"responsive_web_unified_cards_poll3choice_video_enabled\":{\"value\":false},\"responsive_web_unified_cards_poll4choice_image_enabled\":{\"value\":false},\"responsive_web_unified_cards_poll4choice_text_only_enabled\":{\"value\":true},\"responsive_web_unified_cards_poll4choice_video_enabled\":{\"value\":false},\"responsive_web_unified_cards_promo_image_app_enabled\":{\"value\":true},\"responsive_web_unified_cards_promo_image_convo_enabled\":{\"value\":true},\"responsive_web_unified_cards_promo_video_convo_enabled\":{\"value\":true},\"responsive_web_unified_cards_promo_video_website_enabled\":{\"value\":true},\"responsive_web_unified_cards_promo_website_enabled\":{\"value\":true},\"responsive_web_unified_cards_promoted_cards_enabled\":{\"value\":true},\"responsive_web_unified_cards_summary_enabled\":{\"value\":true},\"responsive_web_unified_cards_summary_large_image_enabled\":{\"value\":true},\"responsive_web_unified_cards_unified_card_enabled\":{\"value\":true},\"responsive_web_unified_cards_video_direct_message_enabled\":{\"value\":true},\"responsive_web_unified_cards_vine_enabled\":{\"value\":true},\"responsive_web_verification_v2_enabled\":{\"value\":false},\"responsive_web_video_native_fullscreen_enabled\":{\"value\":true},\"responsive_web_video_promoted_logging_enabled\":{\"value\":true},\"responsive_web_vod_muted_captions_enabled\":{\"value\":true},\"responsive_web_vs_config_desktop_assumed_item_height\":{\"value\":100},\"responsive_web_vs_config_resize_observer_enabled\":{\"value\":true},\"responsive_web_zipkin_api_requests_enabled\":{\"value\":false},\"scribe_api_error_sample_size\":{\"value\":0},\"scribe_api_sample_size\":{\"value\":100},\"scribe_cdn_host_list\":{\"value\":[\"si0.twimg.com\",\"si1.twimg.com\",\"si2.twimg.com\",\"si3.twimg.com\",\"a0.twimg.com\",\"a1.twimg.com\",\"a2.twimg.com\",\"a3.twimg.com\",\"abs.twimg.com\",\"amp.twimg.com\",\"o.twimg.com\",\"pbs.twimg.com\",\"pbs-eb.twimg.com\",\"pbs-ec.twimg.com\",\"pbs-v6.twimg.com\",\"pbs-h1.twimg.com\",\"pbs-h2.twimg.com\",\"video.twimg.com\",\"platform.twitter.com\",\"cdn.api.twitter.com\",\"ton.twimg.com\",\"v.cdn.vine.co\",\"mtc.cdn.vine.co\",\"edge.vncdn.co\",\"mid.vncdn.co\"]},\"scribe_cdn_sample_size\":{\"value\":50},\"scribe_enabled\":{\"value\":true},\"topics_profile_entry_point_enabled\":{\"value\":true},\"tweet_limited_actions_config_enabled\":{\"value\":true},\"tweet_limited_actions_config_non_compliant\":{\"value\":[\"reply\",\"retweet\",\"like\",\"send_via_dm\",\"add_to_bookmarks\",\"add_to_moment\",\"pin_to_profile\",\"view_tweet_activity\",\"share_tweet_via\"]},\"user_display_name_max_limit\":{\"value\":50},\"web_video_hls_mp4_threshold_sec\":{\"value\":0},\"web_video_hlsjs_version\":{\"value\":\"\"},\"web_video_hlsjs_worker_enabled\":{\"value\":false},\"live_event_web_docking_holdback_8481\":{\"value\":\"docking_enabled\"},\"rweb_android_app_install_cta_v2_8497\":{\"value\":\"app_install_once_per_week\"},\"rweb_organic_hw_cards_8432\":{\"value\":\"treatment\"},\"rweb_promoted_hw_cards_8477\":{\"value\":\"treatment\"}},\"debug\":{},\"impression_pointers\":{},\"impressions\":{},\"featureSetToken\":\"cc663d8b290829aa6ee940b4ac3f9deb9a28b23a\",\"isLoaded\":true,\"isLoading\":false,\"keysRead\":{},\"settingsVersion\":\"78989e1420860af811473dada2ae6cff\"},\"urt\":{},\"entities\":{\"users\":{\"entities\":{},\"errors\":{},\"fetchStatus\":{}},\"tweets\":{\"entities\":{},\"errors\":{},\"fetchStatus\":{}},\"cards\":{\"entities\":{},\"errors\":{},\"fetchStatus\":{}}},\"toasts\":[],\"devices\":{\"browserPush\":{\"fetchStatus\":\"none\",\"pushNotificationsPrompt\":{\"dismissed\":false,\"fetchStatus\":\"none\"},\"subscribed\":false,\"supported\":null},\"devices\":{\"data\":{\"emails\":[],\"phone_numbers\":[]},\"fetchStatus\":\"none\"},\"notificationSettings\":{\"push_settings\":{\"error\":null,\"fetchStatus\":\"none\"},\"push_settings_template\":{\"template\":{\"settings\":[]}},\"sms_settings\":{\"error\":null,\"fetchStatus\":\"none\"},\"sms_settings_template\":{\"template\":{\"settings\":[]}},\"checkin_time\":null}},\"typeaheadUsers\":{\"fetchStatus\":\"none\",\"users\":{},\"denylist\":{},\"lastUpdated\":0,\"index\":{}},\"session\":{\"country\":\"US\",\"emailLiteLoginEligibility\":{\"fetchStatus\":\"none\"},\"guestId\":\"158155194190944642\",\"language\":\"en\",\"oneFactorLoginEligibility\":{\"fetchStatus\":\"none\"}},\"settings\":{\"local\":{\"nextPushCheckin\":0,\"shouldAutoPlayGif\":false,\"scale\":\"normal\",\"themeColor\":\"blue\",\"highContrastEnabled\":false,\"themeBackground\":\"light\",\"loginPromptLastShown\":0,\"reducedMotionEnabled\":false,\"conversationTreeEnabled\":false},\"remote\":{\"settings\":{\"display_sensitive_media\":false},\"fetchStatus\":\"none\"},\"dataSaver\":{\"dataSaverMode\":false},\"transient\":{\"dtabBarInfo\":{\"dtabAll\":null,\"dtabRweb\":null,\"hide\":false},\"loginPromptShown\":false,\"lastViewedDmInboxPath\":\"/messages\",\"themeFocus\":\"\"}},\"hashflags\":{\"fetchStatus\":\"none\",\"hashflags\":{}}};\n",
       "window.__META_DATA__ = {\"env\":\"prod\",\"isFromDynamicRenderer\":false,\"isLoggedIn\":false,\"isRTL\":false,\"hasMultiAccountCookie\":false,\"serverDate\":1581551941949,\"userAgentTags\":[\"m2\",\"rweb\",\"msw\"],\"sha\":\"53421caeb4f6e5d5bd0a1514d4d94d58b552939f\"};\n",
       "</script>\n",
       "<script nonce=\"\">\n",
       "  document.cookie = decodeURIComponent(\"gt=1227743946664706048; Max-Age=10800; Domain=.twitter.com; Path=/; Secure\");\n",
       "</script>\n",
       "<script charset=\"utf-8\" nonce=\"\" type=\"text/javascript\">\n",
       "  window.__SCRIPTS_LOADED__ = {};\n",
       "  !function(e){function n(n){for(var o,t,i=n[0],c=n[1],m=n[2],l=0,s=[];l<i.length;l++)t=i[l],Object.prototype.hasOwnProperty.call(a,t)&&a[t]&&s.push(a[t][0]),a[t]=0;for(o in c)Object.prototype.hasOwnProperty.call(c,o)&&(e[o]=c[o]);for(u&&u(n);s.length;)s.shift()();return r.push.apply(r,m||[]),d()}function d(){for(var e,n=0;n<r.length;n++){for(var d=r[n],o=!0,i=1;i<d.length;i++){var c=d[i];0!==a[c]&&(o=!1)}o&&(r.splice(n--,1),e=t(t.s=d[0]))}return e}var o={},a={0:0},r=[];function t(n){if(o[n])return o[n].exports;var d=o[n]={i:n,l:!1,exports:{}};return e[n].call(d.exports,d,d.exports,t),d.l=!0,d.exports}t.e=function(e){var n=[],d=a[e];if(0!==d)if(d)n.push(d[2]);else{var o=new Promise((function(n,o){d=a[e]=[n,o]}));n.push(d[2]=o);var r,i=document.createElement(\"script\");i.charset=\"utf-8\",i.timeout=120,t.nc&&i.setAttribute(\"nonce\",t.nc),i.src=function(e){return t.p+\"\"+({2:\"shared~bundle.HomeTimeline\",3:\"shared~bundle.DirectMessages\",4:\"shared~bundle.UserProfile\",5:\"shared~bundle.Settings\",6:\"bundle.NewsCameraCapsule~loader.NewsCamera~ondemand.VideoPlayerDefaultUI\",7:\"bundle.Conversation~bundle.TweetMediaDetail\",8:\"bundle.Display~bundle.Settings\",9:\"bundle.GenericTimeline\",10:\"bundle.NewsCameraCapsule~loader.NewsCamera\",11:\"ondemand.PlayerBase~ondemand.lex\",12:\"vendors~ondemand.TweetDeckRichTextCompose~bundle.DMRichTextCompose\",13:\"bundle.AboutThisAd\",14:\"bundle.Account\",15:\"bundle.AdvancedSearch\",16:\"bundle.Bookmarks\",17:\"bundle.Broadcast\",18:\"bundle.Collection\",19:\"bundle.Compose\",20:\"bundle.ComposeMedia\",21:\"bundle.ConnectTab\",22:\"bundle.Conversation\",23:\"bundle.ConversationParticipants\",24:\"bundle.DMRichTextCompose\",25:\"bundle.DirectMessages\",26:\"bundle.Display\",27:\"bundle.Download\",28:\"bundle.Explore\",29:\"bundle.ExploreTopics\",30:\"bundle.FollowerRequests\",31:\"bundle.GifSearch\",32:\"bundle.HomeTimeline\",33:\"bundle.KeyboardShortcuts\",34:\"bundle.LiveEvent\",35:\"bundle.LoggedOutHome\",36:\"bundle.Login\",37:\"bundle.Logout\",38:\"bundle.Moment\",39:\"bundle.MultiAccount\",40:\"bundle.NetworkInstrument\",41:\"bundle.NewsCameraCapsule\",42:\"bundle.NotificationDetail\",43:\"bundle.Notifications\",44:\"bundle.Ocf\",45:\"bundle.Place\",46:\"bundle.ProfileRedirect\",47:\"bundle.Report\",48:\"bundle.RichTextCompose\",49:\"bundle.Search\",50:\"bundle.Settings\",51:\"bundle.SettingsInternals\",52:\"bundle.SettingsProfile\",53:\"bundle.SettingsTransparency\",54:\"bundle.SmsLogin\",55:\"bundle.Topics\",56:\"bundle.Trends\",57:\"bundle.TweetActivity\",58:\"bundle.TweetMediaDetail\",59:\"bundle.TweetMediaTags\",60:\"bundle.Twitterversary\",61:\"bundle.UserAvatar\",62:\"bundle.UserFollowLists\",63:\"bundle.UserHeader\",64:\"bundle.UserLists\",65:\"bundle.UserMoments\",66:\"bundle.UserProfile\",67:\"bundle.UserProfileTimelines\",68:\"bundle.UserRedirect\",167:\"loader.AbsolutePower\",168:\"loader.AppModules\",169:\"loader.DashMenu\",170:\"loader.ExploreSidebar\",171:\"loader.FeedbackSheet\",172:\"loader.FeedbackTombstone\",173:\"loader.HWCard\",174:\"loader.NewTweetsPill\",175:\"loader.NewsCamera\",176:\"loader.PeriscopeOverlay\",177:\"loader.ProfileClusterFollow\",178:\"loader.PushNotificationsPrompt\",179:\"loader.SideNav\",180:\"loader.SignupModule\",181:\"loader.TimelineGap\",182:\"loader.TimelineRenderer\",183:\"loader.TweetCurationActionMenu\",184:\"loader.TweetPhotos\",185:\"loader.Typeahead\",186:\"loader.WideLayout\",187:\"loader.directMessagesData\",188:\"loader.graphQLDarkReads\",190:\"ondemand.Balloons\",191:\"ondemand.BranchSdk\",192:\"ondemand.CarouselScroller\",193:\"ondemand.ComposeScheduling\",194:\"ondemand.EditBirthdate\",195:\"ondemand.EmojiPicker\",196:\"ondemand.HoverCard\",197:\"ondemand.InlinePlayer\",198:\"ondemand.IntentPrompt\",199:\"ondemand.MicrosoftInterface\",200:\"ondemand.PlayerBase\",201:\"ondemand.PlayerHls12\",202:\"ondemand.PlayerUi\",203:\"ondemand.ProfileSidebar\",204:\"ondemand.SettingsInternals\",205:\"ondemand.TweetDeckRichTextCompose\",206:\"ondemand.VideoPlayerDefaultUI\",207:\"ondemand.countries-ar\",208:\"ondemand.countries-bg\",209:\"ondemand.countries-bn\",210:\"ondemand.countries-ca\",211:\"ondemand.countries-cs\",212:\"ondemand.countries-da\",213:\"ondemand.countries-de\",214:\"ondemand.countries-el\",215:\"ondemand.countries-en\",216:\"ondemand.countries-en-GB\",217:\"ondemand.countries-es\",218:\"ondemand.countries-eu\",219:\"ondemand.countries-fa\",220:\"ondemand.countries-fi\",221:\"ondemand.countries-fil\",222:\"ondemand.countries-fr\",223:\"ondemand.countries-ga\",224:\"ondemand.countries-gl\",225:\"ondemand.countries-gu\",226:\"ondemand.countries-he\",227:\"ondemand.countries-hi\",228:\"ondemand.countries-hr\",229:\"ondemand.countries-hu\",230:\"ondemand.countries-id\",231:\"ondemand.countries-it\",232:\"ondemand.countries-ja\",233:\"ondemand.countries-kn\",234:\"ondemand.countries-ko\",235:\"ondemand.countries-mr\",236:\"ondemand.countries-ms\",237:\"ondemand.countries-nb\",238:\"ondemand.countries-nl\",239:\"ondemand.countries-pl\",240:\"ondemand.countries-pt\",241:\"ondemand.countries-ro\",242:\"ondemand.countries-ru\",243:\"ondemand.countries-sk\",244:\"ondemand.countries-sr\",245:\"ondemand.countries-sv\",246:\"ondemand.countries-ta\",247:\"ondemand.countries-th\",248:\"ondemand.countries-tr\",249:\"ondemand.countries-uk\",250:\"ondemand.countries-ur\",251:\"ondemand.countries-zh\",252:\"ondemand.countries-zh-Hant\",253:\"ondemand.emoji.ar\",254:\"ondemand.emoji.bg\",255:\"ondemand.emoji.bn\",256:\"ondemand.emoji.ca\",257:\"ondemand.emoji.cs\",258:\"ondemand.emoji.da\",259:\"ondemand.emoji.de\",260:\"ondemand.emoji.el\",261:\"ondemand.emoji.en\",262:\"ondemand.emoji.en-GB\",263:\"ondemand.emoji.en-ss\",264:\"ondemand.emoji.en-xx\",265:\"ondemand.emoji.es\",266:\"ondemand.emoji.eu\",267:\"ondemand.emoji.fa\",268:\"ondemand.emoji.fi\",269:\"ondemand.emoji.fil\",270:\"ondemand.emoji.fr\",271:\"ondemand.emoji.ga\",272:\"ondemand.emoji.gl\",273:\"ondemand.emoji.gu\",274:\"ondemand.emoji.he\",275:\"ondemand.emoji.hi\",276:\"ondemand.emoji.hr\",277:\"ondemand.emoji.hu\",278:\"ondemand.emoji.id\",279:\"ondemand.emoji.it\",280:\"ondemand.emoji.ja\",281:\"ondemand.emoji.kn\",282:\"ondemand.emoji.ko\",283:\"ondemand.emoji.mr\",284:\"ondemand.emoji.ms\",285:\"ondemand.emoji.nb\",286:\"ondemand.emoji.nl\",287:\"ondemand.emoji.pl\",288:\"ondemand.emoji.pt\",289:\"ondemand.emoji.ro\",290:\"ondemand.emoji.ru\",291:\"ondemand.emoji.sk\",292:\"ondemand.emoji.sr\",293:\"ondemand.emoji.sv\",294:\"ondemand.emoji.ta\",295:\"ondemand.emoji.th\",296:\"ondemand.emoji.tr\",297:\"ondemand.emoji.uk\",298:\"ondemand.emoji.ur\",299:\"ondemand.emoji.vi\",300:\"ondemand.emoji.zh\",301:\"ondemand.emoji.zh-Hant\",302:\"ondemand.framerateTracking\",303:\"ondemand.lex\",305:\"vendors~ondemand.EmojiPicker\",306:\"vendors~ondemand.PlayerBase\",307:\"vendors~ondemand.PlayerUi\",308:\"vendors~ondemand.TweetDeckRichTextCompose\"}[e]||e)+\".\"+{2:\"9d84e11\",3:\"e0dcdd9\",4:\"d15b041\",5:\"b25d59c\",6:\"54b8a93\",7:\"c42d186\",8:\"6ed4008\",9:\"34e9476\",10:\"7017b46\",11:\"31b77cd\",12:\"a704a10\",13:\"90da115\",14:\"c672dc9\",15:\"133cf67\",16:\"1890542\",17:\"09d2175\",18:\"ea0cc2d\",19:\"9e23878\",20:\"b3a8153\",21:\"9f7a220\",22:\"c89092e\",23:\"62d4446\",24:\"f9615b2\",25:\"aede2b6\",26:\"f4d7d14\",27:\"e6ee409\",28:\"74a3647\",29:\"b77e40e\",30:\"1c21f07\",31:\"97f611f\",32:\"4ad7d4d\",33:\"da332c2\",34:\"24fe77a\",35:\"3ee09df\",36:\"5a649af\",37:\"f86b31e\",38:\"e06d3fb\",39:\"146eba2\",40:\"bc9433f\",41:\"4d01ba2\",42:\"a5e8b20\",43:\"8ece5be\",44:\"c8749b5\",45:\"d7c4ed7\",46:\"1dbe9bb\",47:\"9767acb\",48:\"434051f\",49:\"0271bb4\",50:\"54b5271\",51:\"0c760ac\",52:\"a0ffde5\",53:\"1841bc1\",54:\"cd14df4\",55:\"b40810d\",56:\"c1f198a\",57:\"cc76005\",58:\"ed20d59\",59:\"e8561b5\",60:\"aa594cf\",61:\"b55b229\",62:\"7d1c331\",63:\"6c7915d\",64:\"1a3ef39\",65:\"982f0c6\",66:\"be11144\",67:\"da02f80\",68:\"d4f11e8\",167:\"f383756\",168:\"afecc03\",169:\"a28d453\",170:\"d2791f1\",171:\"0f0922e\",172:\"d0a4a25\",173:\"dd78c08\",174:\"370388d\",175:\"e1bb125\",176:\"8dacd0b\",177:\"d8eb617\",178:\"1da77e2\",179:\"62a16f2\",180:\"1d3fdee\",181:\"498360b\",182:\"501760b\",183:\"8de6eaa\",184:\"499834b\",185:\"c043816\",186:\"ca465be\",187:\"dc2a123\",188:\"1c0f77e\",190:\"cac0bcf\",191:\"30d5e27\",192:\"f74ad46\",193:\"f74aae6\",194:\"630f2e5\",195:\"a8d328c\",196:\"c0def5e\",197:\"ebf1ffe\",198:\"0f29def\",199:\"0968677\",200:\"8a30e7b\",201:\"848cd71\",202:\"c1cc503\",203:\"4f3bef1\",204:\"7137fb3\",205:\"e3b334a\",206:\"17ed960\",207:\"3fc03ae\",208:\"63c8b21\",209:\"60b5207\",210:\"4f104bb\",211:\"9222bdd\",212:\"90a4eba\",213:\"32da5cd\",214:\"0de1523\",215:\"299ff57\",216:\"d1e6f8b\",217:\"d6b7e04\",218:\"445b9e9\",219:\"5c148a8\",220:\"200fb8a\",221:\"820b937\",222:\"f92bb58\",223:\"8dca871\",224:\"d3c6b0a\",225:\"1363feb\",226:\"0b4560d\",227:\"8956749\",228:\"3d48a83\",229:\"ec36976\",230:\"b8d1b58\",231:\"2df745f\",232:\"41b747a\",233:\"6aeaa1a\",234:\"839fc38\",235:\"815785c\",236:\"02de0c7\",237:\"25ee86c\",238:\"bf0591c\",239:\"5e879ea\",240:\"edeecb8\",241:\"592ac49\",242:\"dcbe383\",243:\"7860ff5\",244:\"41aa005\",245:\"2def4a3\",246:\"14a4522\",247:\"c54d9a2\",248:\"b86f043\",249:\"ea16e74\",250:\"c8e608a\",251:\"57fe277\",252:\"07299fd\",253:\"bd6d8cb\",254:\"20b3fa4\",255:\"45805bf\",256:\"a8f8e29\",257:\"5770600\",258:\"a91022b\",259:\"9d930f2\",260:\"29b78ab\",261:\"1a9131c\",262:\"477e53d\",263:\"d27a8bd\",264:\"870b22f\",265:\"a52936f\",266:\"e0e25c2\",267:\"3c1576b\",268:\"e0685dd\",269:\"4352089\",270:\"35a1a36\",271:\"607c6a1\",272:\"25d86ed\",273:\"3372d5f\",274:\"5698bc3\",275:\"0c0b59e\",276:\"577b0ee\",277:\"7ddfe7b\",278:\"ddb95b9\",279:\"49d057c\",280:\"a71be01\",281:\"22e14b9\",282:\"a57cfcc\",283:\"09fab8f\",284:\"186e51c\",285:\"24a771b\",286:\"ba0142a\",287:\"2eb7a6b\",288:\"d7461e7\",289:\"3004fb6\",290:\"12bd911\",291:\"843fccb\",292:\"c888134\",293:\"4778935\",294:\"799a953\",295:\"1e723c1\",296:\"1873d0f\",297:\"41d94c8\",298:\"83106f3\",299:\"a553573\",300:\"f637365\",301:\"dd36e06\",302:\"7d20029\",303:\"df0a080\",305:\"da43e82\",306:\"241c5f1\",307:\"c6b46f6\",308:\"1a27e8c\"}[e]+\"4.js\"}(e);var c=new Error;r=function(n){i.onerror=i.onload=null,clearTimeout(m);var d=a[e];if(0!==d){if(d){var o=n&&(\"load\"===n.type?\"missing\":n.type),r=n&&n.target&&n.target.src;c.message=\"Loading chunk \"+e+\" failed.\\n(\"+o+\": \"+r+\")\",c.name=\"ChunkLoadError\",c.type=o,c.request=r,d[1](c)}a[e]=void 0}};var m=setTimeout((function(){r({type:\"timeout\",target:i})}),12e4);i.onerror=i.onload=r,document.head.appendChild(i)}return Promise.all(n)},t.m=e,t.c=o,t.d=function(e,n,d){t.o(e,n)||Object.defineProperty(e,n,{enumerable:!0,get:d})},t.r=function(e){\"undefined\"!=typeof Symbol&&Symbol.toStringTag&&Object.defineProperty(e,Symbol.toStringTag,{value:\"Module\"}),Object.defineProperty(e,\"__esModule\",{value:!0})},t.t=function(e,n){if(1&n&&(e=t(e)),8&n)return e;if(4&n&&\"object\"==typeof e&&e&&e.__esModule)return e;var d=Object.create(null);if(t.r(d),Object.defineProperty(d,\"default\",{enumerable:!0,value:e}),2&n&&\"string\"!=typeof e)for(var o in e)t.d(d,o,function(n){return e[n]}.bind(null,o));return d},t.n=function(e){var n=e&&e.__esModule?function(){return e.default}:function(){return e};return t.d(n,\"a\",n),n},t.o=function(e,n){return Object.prototype.hasOwnProperty.call(e,n)},t.p=\"https://abs.twimg.com/responsive-web/web/\",t.oe=function(e){throw e};var i=window.webpackJsonp=window.webpackJsonp||[],c=i.push.bind(i);i.push=n,i=i.slice();for(var m=0;m<i.length;m++)n(i[m]);var u=c;d()}([]),window.__SCRIPTS_LOADED__.runtime=!0;\n",
       "//# sourceMappingURL=runtime.13d62ef4.js.map\n",
       "</script>\n",
       "<script charset=\"utf-8\" crossorigin=\"anonymous\" nonce=\"\" src=\"https://abs.twimg.com/responsive-web/web/polyfills.3429ecd4.js\" type=\"text/javascript\"></script>\n",
       "<script charset=\"utf-8\" crossorigin=\"anonymous\" nonce=\"\" src=\"https://abs.twimg.com/responsive-web/web/vendors~main.e322e594.js\" type=\"text/javascript\"></script>\n",
       "<script charset=\"utf-8\" crossorigin=\"anonymous\" nonce=\"\" src=\"https://abs.twimg.com/responsive-web/web/i18n-rweb/en.3ea5fb34.js\" type=\"text/javascript\"></script>\n",
       "<script charset=\"utf-8\" crossorigin=\"anonymous\" nonce=\"\" src=\"https://abs.twimg.com/responsive-web/web/i18n-horizon/en.309bac84.js\" type=\"text/javascript\"></script>\n",
       "<script charset=\"utf-8\" crossorigin=\"anonymous\" nonce=\"\" src=\"https://abs.twimg.com/responsive-web/web/main.78613ad4.js\" type=\"text/javascript\"></script>\n",
       "<script nonce=\"\">\n",
       "  if (!window.__SCRIPTS_LOADED__['main']) {\n",
       "    document.getElementById('ScriptLoadFailure').style.display = 'block';\n",
       "  }\n",
       "</script>\n",
       "</body></html>"
      ]
     },
     "execution_count": 9,
     "metadata": {},
     "output_type": "execute_result"
    }
   ],
   "source": [
    "weather_soup"
   ]
  },
  {
   "cell_type": "code",
   "execution_count": 4,
   "metadata": {},
   "outputs": [
    {
     "ename": "SyntaxError",
     "evalue": "invalid syntax (<ipython-input-4-494660d9a24c>, line 1)",
     "output_type": "error",
     "traceback": [
      "\u001b[1;36m  File \u001b[1;32m\"<ipython-input-4-494660d9a24c>\"\u001b[1;36m, line \u001b[1;32m1\u001b[0m\n\u001b[1;33m    tweets = weather_soup.find(\"class_\" : \"css-901oao css-16my406 r-1qd0xha r-ad9z0x r-bcqeeo r-qvutc0\")\u001b[0m\n\u001b[1;37m                                        ^\u001b[0m\n\u001b[1;31mSyntaxError\u001b[0m\u001b[1;31m:\u001b[0m invalid syntax\n"
     ]
    }
   ],
   "source": [
    "tweets = weather_soup.find(\"class\" : \"css-901oao css-16my406 r-1qd0xha r-ad9z0x r-bcqeeo r-qvutc0\")\n",
    "mars_weather = tweets.find('p', class_=\"tweet-text\").text\n",
    "print(mars_weather)"
   ]
  },
  {
   "cell_type": "code",
   "execution_count": 5,
   "metadata": {},
   "outputs": [
    {
     "name": "stdout",
     "output_type": "stream",
     "text": [
      "None\n"
     ]
    }
   ],
   "source": [
    "tweets = weather_soup.find(\"div\", {\"class\" : \"tweet\", \"data-name\" : \"Mars Weather\"})\n",
    "print(tweets)"
   ]
  },
  {
   "cell_type": "code",
   "execution_count": null,
   "metadata": {},
   "outputs": [],
   "source": [
    "#Mars Facts"
   ]
  },
  {
   "cell_type": "code",
   "execution_count": 4,
   "metadata": {},
   "outputs": [
    {
     "name": "stdout",
     "output_type": "stream",
     "text": [
      "<table border=\"1\" class=\"dataframe\">\n",
      "  <tbody>\n",
      "    <tr>\n",
      "      <td>Equatorial Diameter:</td>\n",
      "      <td>6,792 km</td>\n",
      "    </tr>\n",
      "    <tr>\n",
      "      <td>Polar Diameter:</td>\n",
      "      <td>6,752 km</td>\n",
      "    </tr>\n",
      "    <tr>\n",
      "      <td>Mass:</td>\n",
      "      <td>6.39 × 10^23 kg (0.11 Earths)</td>\n",
      "    </tr>\n",
      "    <tr>\n",
      "      <td>Moons:</td>\n",
      "      <td>2 (Phobos &amp; Deimos)</td>\n",
      "    </tr>\n",
      "    <tr>\n",
      "      <td>Orbit Distance:</td>\n",
      "      <td>227,943,824 km (1.38 AU)</td>\n",
      "    </tr>\n",
      "    <tr>\n",
      "      <td>Orbit Period:</td>\n",
      "      <td>687 days (1.9 years)</td>\n",
      "    </tr>\n",
      "    <tr>\n",
      "      <td>Surface Temperature:</td>\n",
      "      <td>-87 to -5 °C</td>\n",
      "    </tr>\n",
      "    <tr>\n",
      "      <td>First Record:</td>\n",
      "      <td>2nd millennium BC</td>\n",
      "    </tr>\n",
      "    <tr>\n",
      "      <td>Recorded By:</td>\n",
      "      <td>Egyptian astronomers</td>\n",
      "    </tr>\n",
      "  </tbody>\n",
      "</table>\n"
     ]
    }
   ],
   "source": [
    "import pandas as pd\n",
    "facts_url = \"https://space-facts.com/mars/\"\n",
    "browser.visit(facts_url)\n",
    "mars_data = pd.read_html(facts_url)\n",
    "mars_data = pd.DataFrame(mars_data[0])\n",
    "mars_facts = mars_data.to_html(header = False, index = False)\n",
    "print(mars_facts)"
   ]
  },
  {
   "cell_type": "code",
   "execution_count": null,
   "metadata": {},
   "outputs": [],
   "source": [
    "#Mars Hemispheres"
   ]
  },
  {
   "cell_type": "code",
   "execution_count": 14,
   "metadata": {},
   "outputs": [],
   "source": [
    "executable_path = {'executable_path':'chromedriver.exe'}\n",
    "browser = Browser('chrome', **executable_path, headless=False)\n",
    "url = \"https://astrogeology.usgs.gov/search/results?q=hemisphere+enhanced&k1=target&v1=Mars\"\n",
    "browser.visit(url)"
   ]
  },
  {
   "cell_type": "code",
   "execution_count": 15,
   "metadata": {},
   "outputs": [],
   "source": [
    "html = browser.html\n",
    "soup = BeautifulSoup(html, \"html.parser\")\n",
    "mars_hemisphere = []"
   ]
  },
  {
   "cell_type": "code",
   "execution_count": 16,
   "metadata": {},
   "outputs": [],
   "source": [
    "products = soup.find(\"div\", class_ = \"result-list\" )\n",
    "hemispheres = products.find_all(\"div\", class_=\"item\")\n",
    "\n",
    "for hemisphere in hemispheres:\n",
    "    title = hemisphere.find(\"h3\").text\n",
    "    title = title.replace(\"Enhanced\", \"\")\n",
    "    end_link = hemisphere.find(\"a\")[\"href\"]\n",
    "    image_link = \"https://astrogeology.usgs.gov/\" + end_link    \n",
    "    browser.visit(image_link)\n",
    "    html = browser.html\n",
    "    soup=BeautifulSoup(html, \"html.parser\")\n",
    "    downloads = soup.find(\"div\", class_=\"downloads\")\n",
    "    image_url = downloads.find(\"a\")[\"href\"]\n",
    "    mars_hemisphere.append({\"title\": title, \"img_url\": image_url})"
   ]
  },
  {
   "cell_type": "code",
   "execution_count": 17,
   "metadata": {},
   "outputs": [
    {
     "data": {
      "text/plain": [
       "[{'title': 'Cerberus Hemisphere ',\n",
       "  'img_url': 'http://astropedia.astrogeology.usgs.gov/download/Mars/Viking/cerberus_enhanced.tif/full.jpg'},\n",
       " {'title': 'Schiaparelli Hemisphere ',\n",
       "  'img_url': 'http://astropedia.astrogeology.usgs.gov/download/Mars/Viking/schiaparelli_enhanced.tif/full.jpg'},\n",
       " {'title': 'Syrtis Major Hemisphere ',\n",
       "  'img_url': 'http://astropedia.astrogeology.usgs.gov/download/Mars/Viking/syrtis_major_enhanced.tif/full.jpg'},\n",
       " {'title': 'Valles Marineris Hemisphere ',\n",
       "  'img_url': 'http://astropedia.astrogeology.usgs.gov/download/Mars/Viking/valles_marineris_enhanced.tif/full.jpg'}]"
      ]
     },
     "execution_count": 17,
     "metadata": {},
     "output_type": "execute_result"
    }
   ],
   "source": [
    "mars_hemisphere"
   ]
  },
  {
   "cell_type": "code",
   "execution_count": null,
   "metadata": {},
   "outputs": [],
   "source": []
  }
 ],
 "metadata": {
  "kernelspec": {
   "display_name": "Python 3",
   "language": "python",
   "name": "python3"
  },
  "language_info": {
   "codemirror_mode": {
    "name": "ipython",
    "version": 3
   },
   "file_extension": ".py",
   "mimetype": "text/x-python",
   "name": "python",
   "nbconvert_exporter": "python",
   "pygments_lexer": "ipython3",
   "version": "3.7.4"
  }
 },
 "nbformat": 4,
 "nbformat_minor": 2
}
